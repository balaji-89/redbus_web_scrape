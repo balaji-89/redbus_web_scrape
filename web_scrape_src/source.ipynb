{
 "cells": [
  {
   "cell_type": "code",
   "execution_count": 58,
   "metadata": {},
   "outputs": [
    {
     "name": "stdout",
     "output_type": "stream",
     "text": [
      "17\n",
      "Number of routes [<selenium.webdriver.remote.webelement.WebElement (session=\"de7a7b6d8de651af64e49e8d86115ce2\", element=\"f.853004C42474A9BE0A0F254203097C43.d.12A0BC872E6CC0149FC5B821A66DFC25.e.77\")>, <selenium.webdriver.remote.webelement.WebElement (session=\"de7a7b6d8de651af64e49e8d86115ce2\", element=\"f.853004C42474A9BE0A0F254203097C43.d.12A0BC872E6CC0149FC5B821A66DFC25.e.78\")>, <selenium.webdriver.remote.webelement.WebElement (session=\"de7a7b6d8de651af64e49e8d86115ce2\", element=\"f.853004C42474A9BE0A0F254203097C43.d.12A0BC872E6CC0149FC5B821A66DFC25.e.79\")>, <selenium.webdriver.remote.webelement.WebElement (session=\"de7a7b6d8de651af64e49e8d86115ce2\", element=\"f.853004C42474A9BE0A0F254203097C43.d.12A0BC872E6CC0149FC5B821A66DFC25.e.80\")>, <selenium.webdriver.remote.webelement.WebElement (session=\"de7a7b6d8de651af64e49e8d86115ce2\", element=\"f.853004C42474A9BE0A0F254203097C43.d.12A0BC872E6CC0149FC5B821A66DFC25.e.81\")>, <selenium.webdriver.remote.webelement.WebElement (session=\"de7a7b6d8de651af64e49e8d86115ce2\", element=\"f.853004C42474A9BE0A0F254203097C43.d.12A0BC872E6CC0149FC5B821A66DFC25.e.82\")>, <selenium.webdriver.remote.webelement.WebElement (session=\"de7a7b6d8de651af64e49e8d86115ce2\", element=\"f.853004C42474A9BE0A0F254203097C43.d.12A0BC872E6CC0149FC5B821A66DFC25.e.83\")>, <selenium.webdriver.remote.webelement.WebElement (session=\"de7a7b6d8de651af64e49e8d86115ce2\", element=\"f.853004C42474A9BE0A0F254203097C43.d.12A0BC872E6CC0149FC5B821A66DFC25.e.84\")>, <selenium.webdriver.remote.webelement.WebElement (session=\"de7a7b6d8de651af64e49e8d86115ce2\", element=\"f.853004C42474A9BE0A0F254203097C43.d.12A0BC872E6CC0149FC5B821A66DFC25.e.85\")>, <selenium.webdriver.remote.webelement.WebElement (session=\"de7a7b6d8de651af64e49e8d86115ce2\", element=\"f.853004C42474A9BE0A0F254203097C43.d.12A0BC872E6CC0149FC5B821A66DFC25.e.86\")>]\n",
      "Vijayawada to Hyderabad\n",
      "Hyderabad to Vijayawada\n",
      "Kakinada to Visakhapatnam\n",
      "Visakhapatnam to Kakinada\n",
      "Chittoor (Andhra Pradesh) to Bangalore\n",
      "Kadapa to Bangalore\n",
      "Anantapur (andhra pradesh) to Bangalore\n",
      "Tirupati to Bangalore\n",
      "Visakhapatnam to Vijayawada\n",
      "Ongole to Hyderabad\n",
      "Number of routes [<selenium.webdriver.remote.webelement.WebElement (session=\"de7a7b6d8de651af64e49e8d86115ce2\", element=\"f.853004C42474A9BE0A0F254203097C43.d.45F0119190AD2E16A103E4759B9C93E8.e.162\")>, <selenium.webdriver.remote.webelement.WebElement (session=\"de7a7b6d8de651af64e49e8d86115ce2\", element=\"f.853004C42474A9BE0A0F254203097C43.d.45F0119190AD2E16A103E4759B9C93E8.e.163\")>, <selenium.webdriver.remote.webelement.WebElement (session=\"de7a7b6d8de651af64e49e8d86115ce2\", element=\"f.853004C42474A9BE0A0F254203097C43.d.45F0119190AD2E16A103E4759B9C93E8.e.164\")>, <selenium.webdriver.remote.webelement.WebElement (session=\"de7a7b6d8de651af64e49e8d86115ce2\", element=\"f.853004C42474A9BE0A0F254203097C43.d.45F0119190AD2E16A103E4759B9C93E8.e.165\")>, <selenium.webdriver.remote.webelement.WebElement (session=\"de7a7b6d8de651af64e49e8d86115ce2\", element=\"f.853004C42474A9BE0A0F254203097C43.d.45F0119190AD2E16A103E4759B9C93E8.e.166\")>, <selenium.webdriver.remote.webelement.WebElement (session=\"de7a7b6d8de651af64e49e8d86115ce2\", element=\"f.853004C42474A9BE0A0F254203097C43.d.45F0119190AD2E16A103E4759B9C93E8.e.167\")>, <selenium.webdriver.remote.webelement.WebElement (session=\"de7a7b6d8de651af64e49e8d86115ce2\", element=\"f.853004C42474A9BE0A0F254203097C43.d.45F0119190AD2E16A103E4759B9C93E8.e.168\")>, <selenium.webdriver.remote.webelement.WebElement (session=\"de7a7b6d8de651af64e49e8d86115ce2\", element=\"f.853004C42474A9BE0A0F254203097C43.d.45F0119190AD2E16A103E4759B9C93E8.e.169\")>, <selenium.webdriver.remote.webelement.WebElement (session=\"de7a7b6d8de651af64e49e8d86115ce2\", element=\"f.853004C42474A9BE0A0F254203097C43.d.45F0119190AD2E16A103E4759B9C93E8.e.170\")>, <selenium.webdriver.remote.webelement.WebElement (session=\"de7a7b6d8de651af64e49e8d86115ce2\", element=\"f.853004C42474A9BE0A0F254203097C43.d.45F0119190AD2E16A103E4759B9C93E8.e.171\")>]\n",
      "Bangalore to Kozhikode\n",
      "Kozhikode to Ernakulam\n",
      "Kozhikode to Bangalore\n",
      "Ernakulam to Kozhikode\n",
      "Kozhikode to Mysore\n",
      "Kozhikode to Thiruvananthapuram\n",
      "Bangalore to Kalpetta (kerala)\n",
      "Mysore to Kozhikode\n",
      "Kalpetta (kerala) to Bangalore\n",
      "Kozhikode to Thrissur\n",
      "Number of routes [<selenium.webdriver.remote.webelement.WebElement (session=\"de7a7b6d8de651af64e49e8d86115ce2\", element=\"f.853004C42474A9BE0A0F254203097C43.d.618A9E7B5B44E53E99769360A35CA9B9.e.281\")>, <selenium.webdriver.remote.webelement.WebElement (session=\"de7a7b6d8de651af64e49e8d86115ce2\", element=\"f.853004C42474A9BE0A0F254203097C43.d.618A9E7B5B44E53E99769360A35CA9B9.e.282\")>, <selenium.webdriver.remote.webelement.WebElement (session=\"de7a7b6d8de651af64e49e8d86115ce2\", element=\"f.853004C42474A9BE0A0F254203097C43.d.618A9E7B5B44E53E99769360A35CA9B9.e.283\")>, <selenium.webdriver.remote.webelement.WebElement (session=\"de7a7b6d8de651af64e49e8d86115ce2\", element=\"f.853004C42474A9BE0A0F254203097C43.d.618A9E7B5B44E53E99769360A35CA9B9.e.284\")>, <selenium.webdriver.remote.webelement.WebElement (session=\"de7a7b6d8de651af64e49e8d86115ce2\", element=\"f.853004C42474A9BE0A0F254203097C43.d.618A9E7B5B44E53E99769360A35CA9B9.e.285\")>, <selenium.webdriver.remote.webelement.WebElement (session=\"de7a7b6d8de651af64e49e8d86115ce2\", element=\"f.853004C42474A9BE0A0F254203097C43.d.618A9E7B5B44E53E99769360A35CA9B9.e.286\")>, <selenium.webdriver.remote.webelement.WebElement (session=\"de7a7b6d8de651af64e49e8d86115ce2\", element=\"f.853004C42474A9BE0A0F254203097C43.d.618A9E7B5B44E53E99769360A35CA9B9.e.287\")>, <selenium.webdriver.remote.webelement.WebElement (session=\"de7a7b6d8de651af64e49e8d86115ce2\", element=\"f.853004C42474A9BE0A0F254203097C43.d.618A9E7B5B44E53E99769360A35CA9B9.e.288\")>, <selenium.webdriver.remote.webelement.WebElement (session=\"de7a7b6d8de651af64e49e8d86115ce2\", element=\"f.853004C42474A9BE0A0F254203097C43.d.618A9E7B5B44E53E99769360A35CA9B9.e.289\")>, <selenium.webdriver.remote.webelement.WebElement (session=\"de7a7b6d8de651af64e49e8d86115ce2\", element=\"f.853004C42474A9BE0A0F254203097C43.d.618A9E7B5B44E53E99769360A35CA9B9.e.290\")>]\n",
      "Khammam to Hyderabad\n",
      "Hyderabad to Vijayawada\n",
      "Hyderabad to Khammam\n",
      "Hyderabad to Srisailam\n",
      "Karimnagar to Hyderabad\n",
      "Hyderabad to Nirmal\n",
      "Hyderabad to Mancherial\n",
      "Hyderabad to Adilabad\n",
      "Hyderabad to Karimnagar\n",
      "Kothagudem to Hyderabad\n",
      "Number of routes []\n"
     ]
    },
    {
     "ename": "NoSuchElementException",
     "evalue": "Message: no such element: Unable to locate element: {\"method\":\"css selector\",\"selector\":\"div.loaderHeading\"}\n  (Session info: MicrosoftEdge=126.0.2592.87); For documentation on this error, please visit: https://www.selenium.dev/documentation/webdriver/troubleshooting/errors#no-such-element-exception\nStacktrace:\n#0 0x57b4c1dee64e <unknown>\n#1 0x57b4c1aab682 <unknown>\n#2 0x57b4c1af6e1c <unknown>\n#3 0x57b4c1af7191 <unknown>\n#4 0x57b4c1b39814 <unknown>\n#5 0x57b4c1b1999d <unknown>\n#6 0x57b4c1b3758e <unknown>\n#7 0x57b4c1b19713 <unknown>\n#8 0x57b4c1aeaa43 <unknown>\n#9 0x57b4c1aeb7fe <unknown>\n#10 0x57b4c1dbe121 <unknown>\n#11 0x57b4c1dc127d <unknown>\n#12 0x57b4c1dc0d02 <unknown>\n#13 0x57b4c1dc1705 <unknown>\n#14 0x57b4c1daf4ab <unknown>\n#15 0x57b4c1dc1aa1 <unknown>\n#16 0x57b4c1d9bdd5 <unknown>\n#17 0x57b4c1ddf588 <unknown>\n#18 0x57b4c1ddf719 <unknown>\n#19 0x57b4c1ded9c1 <unknown>\n#20 0x75dda1e97b5a <unknown>\n",
     "output_type": "error",
     "traceback": [
      "\u001b[0;31m---------------------------------------------------------------------------\u001b[0m",
      "\u001b[0;31mNoSuchElementException\u001b[0m                    Traceback (most recent call last)",
      "Cell \u001b[0;32mIn[58], line 46\u001b[0m\n\u001b[1;32m     44\u001b[0m time\u001b[38;5;241m.\u001b[39msleep(\u001b[38;5;241m2\u001b[39m)\n\u001b[1;32m     45\u001b[0m \u001b[38;5;66;03m# Locate the element you want to scroll to\u001b[39;00m\n\u001b[0;32m---> 46\u001b[0m element \u001b[38;5;241m=\u001b[39m \u001b[43mdriver\u001b[49m\u001b[38;5;241;43m.\u001b[39;49m\u001b[43mfind_element\u001b[49m\u001b[43m(\u001b[49m\u001b[43mBy\u001b[49m\u001b[38;5;241;43m.\u001b[39;49m\u001b[43mCSS_SELECTOR\u001b[49m\u001b[43m,\u001b[49m\u001b[43m \u001b[49m\u001b[38;5;124;43m\"\u001b[39;49m\u001b[38;5;124;43mdiv.loaderHeading\u001b[39;49m\u001b[38;5;124;43m\"\u001b[39;49m\u001b[43m)\u001b[49m\n\u001b[1;32m     47\u001b[0m driver\u001b[38;5;241m.\u001b[39mexecute_script(\u001b[38;5;124m\"\u001b[39m\u001b[38;5;124marguments[0].scrollIntoView(\u001b[39m\u001b[38;5;124m{\u001b[39m\u001b[38;5;124mblock: \u001b[39m\u001b[38;5;124m'\u001b[39m\u001b[38;5;124mcenter\u001b[39m\u001b[38;5;124m'\u001b[39m\u001b[38;5;124m});\u001b[39m\u001b[38;5;124m\"\u001b[39m, element)\n\u001b[1;32m     48\u001b[0m time\u001b[38;5;241m.\u001b[39msleep(\u001b[38;5;241m2\u001b[39m)\n",
      "File \u001b[0;32m~/personal_project/red_bus_web_scrapping/env/lib/python3.12/site-packages/selenium/webdriver/remote/webdriver.py:748\u001b[0m, in \u001b[0;36mWebDriver.find_element\u001b[0;34m(self, by, value)\u001b[0m\n\u001b[1;32m    745\u001b[0m     by \u001b[38;5;241m=\u001b[39m By\u001b[38;5;241m.\u001b[39mCSS_SELECTOR\n\u001b[1;32m    746\u001b[0m     value \u001b[38;5;241m=\u001b[39m \u001b[38;5;124mf\u001b[39m\u001b[38;5;124m'\u001b[39m\u001b[38;5;124m[name=\u001b[39m\u001b[38;5;124m\"\u001b[39m\u001b[38;5;132;01m{\u001b[39;00mvalue\u001b[38;5;132;01m}\u001b[39;00m\u001b[38;5;124m\"\u001b[39m\u001b[38;5;124m]\u001b[39m\u001b[38;5;124m'\u001b[39m\n\u001b[0;32m--> 748\u001b[0m \u001b[38;5;28;01mreturn\u001b[39;00m \u001b[38;5;28;43mself\u001b[39;49m\u001b[38;5;241;43m.\u001b[39;49m\u001b[43mexecute\u001b[49m\u001b[43m(\u001b[49m\u001b[43mCommand\u001b[49m\u001b[38;5;241;43m.\u001b[39;49m\u001b[43mFIND_ELEMENT\u001b[49m\u001b[43m,\u001b[49m\u001b[43m \u001b[49m\u001b[43m{\u001b[49m\u001b[38;5;124;43m\"\u001b[39;49m\u001b[38;5;124;43musing\u001b[39;49m\u001b[38;5;124;43m\"\u001b[39;49m\u001b[43m:\u001b[49m\u001b[43m \u001b[49m\u001b[43mby\u001b[49m\u001b[43m,\u001b[49m\u001b[43m \u001b[49m\u001b[38;5;124;43m\"\u001b[39;49m\u001b[38;5;124;43mvalue\u001b[39;49m\u001b[38;5;124;43m\"\u001b[39;49m\u001b[43m:\u001b[49m\u001b[43m \u001b[49m\u001b[43mvalue\u001b[49m\u001b[43m}\u001b[49m\u001b[43m)\u001b[49m[\u001b[38;5;124m\"\u001b[39m\u001b[38;5;124mvalue\u001b[39m\u001b[38;5;124m\"\u001b[39m]\n",
      "File \u001b[0;32m~/personal_project/red_bus_web_scrapping/env/lib/python3.12/site-packages/selenium/webdriver/remote/webdriver.py:354\u001b[0m, in \u001b[0;36mWebDriver.execute\u001b[0;34m(self, driver_command, params)\u001b[0m\n\u001b[1;32m    352\u001b[0m response \u001b[38;5;241m=\u001b[39m \u001b[38;5;28mself\u001b[39m\u001b[38;5;241m.\u001b[39mcommand_executor\u001b[38;5;241m.\u001b[39mexecute(driver_command, params)\n\u001b[1;32m    353\u001b[0m \u001b[38;5;28;01mif\u001b[39;00m response:\n\u001b[0;32m--> 354\u001b[0m     \u001b[38;5;28;43mself\u001b[39;49m\u001b[38;5;241;43m.\u001b[39;49m\u001b[43merror_handler\u001b[49m\u001b[38;5;241;43m.\u001b[39;49m\u001b[43mcheck_response\u001b[49m\u001b[43m(\u001b[49m\u001b[43mresponse\u001b[49m\u001b[43m)\u001b[49m\n\u001b[1;32m    355\u001b[0m     response[\u001b[38;5;124m\"\u001b[39m\u001b[38;5;124mvalue\u001b[39m\u001b[38;5;124m\"\u001b[39m] \u001b[38;5;241m=\u001b[39m \u001b[38;5;28mself\u001b[39m\u001b[38;5;241m.\u001b[39m_unwrap_value(response\u001b[38;5;241m.\u001b[39mget(\u001b[38;5;124m\"\u001b[39m\u001b[38;5;124mvalue\u001b[39m\u001b[38;5;124m\"\u001b[39m, \u001b[38;5;28;01mNone\u001b[39;00m))\n\u001b[1;32m    356\u001b[0m     \u001b[38;5;28;01mreturn\u001b[39;00m response\n",
      "File \u001b[0;32m~/personal_project/red_bus_web_scrapping/env/lib/python3.12/site-packages/selenium/webdriver/remote/errorhandler.py:229\u001b[0m, in \u001b[0;36mErrorHandler.check_response\u001b[0;34m(self, response)\u001b[0m\n\u001b[1;32m    227\u001b[0m         alert_text \u001b[38;5;241m=\u001b[39m value[\u001b[38;5;124m\"\u001b[39m\u001b[38;5;124malert\u001b[39m\u001b[38;5;124m\"\u001b[39m]\u001b[38;5;241m.\u001b[39mget(\u001b[38;5;124m\"\u001b[39m\u001b[38;5;124mtext\u001b[39m\u001b[38;5;124m\"\u001b[39m)\n\u001b[1;32m    228\u001b[0m     \u001b[38;5;28;01mraise\u001b[39;00m exception_class(message, screen, stacktrace, alert_text)  \u001b[38;5;66;03m# type: ignore[call-arg]  # mypy is not smart enough here\u001b[39;00m\n\u001b[0;32m--> 229\u001b[0m \u001b[38;5;28;01mraise\u001b[39;00m exception_class(message, screen, stacktrace)\n",
      "\u001b[0;31mNoSuchElementException\u001b[0m: Message: no such element: Unable to locate element: {\"method\":\"css selector\",\"selector\":\"div.loaderHeading\"}\n  (Session info: MicrosoftEdge=126.0.2592.87); For documentation on this error, please visit: https://www.selenium.dev/documentation/webdriver/troubleshooting/errors#no-such-element-exception\nStacktrace:\n#0 0x57b4c1dee64e <unknown>\n#1 0x57b4c1aab682 <unknown>\n#2 0x57b4c1af6e1c <unknown>\n#3 0x57b4c1af7191 <unknown>\n#4 0x57b4c1b39814 <unknown>\n#5 0x57b4c1b1999d <unknown>\n#6 0x57b4c1b3758e <unknown>\n#7 0x57b4c1b19713 <unknown>\n#8 0x57b4c1aeaa43 <unknown>\n#9 0x57b4c1aeb7fe <unknown>\n#10 0x57b4c1dbe121 <unknown>\n#11 0x57b4c1dc127d <unknown>\n#12 0x57b4c1dc0d02 <unknown>\n#13 0x57b4c1dc1705 <unknown>\n#14 0x57b4c1daf4ab <unknown>\n#15 0x57b4c1dc1aa1 <unknown>\n#16 0x57b4c1d9bdd5 <unknown>\n#17 0x57b4c1ddf588 <unknown>\n#18 0x57b4c1ddf719 <unknown>\n#19 0x57b4c1ded9c1 <unknown>\n#20 0x75dda1e97b5a <unknown>\n"
     ]
    }
   ],
   "source": [
    "import time\n",
    "from selenium import webdriver \n",
    "from selenium.webdriver.common.action_chains import ActionChains\n",
    "from selenium.webdriver.common.by import By\n",
    "from selenium.webdriver.support.ui import WebDriverWait\n",
    "from selenium.webdriver.support import expected_conditions as EC\n",
    "\n",
    "\n",
    "# create webdriver object\n",
    "driver = webdriver.Edge()\n",
    "driver.maximize_window()\n",
    "# create action chain object\n",
    "action = ActionChains(driver)\n",
    "\n",
    "driver.get('https://www.redbus.in/')\n",
    "time.sleep(2)\n",
    "\n",
    "#centering the carousel in the webpage\n",
    "element = driver.find_element(By.CSS_SELECTOR, \"div.loaderHeading\")\n",
    "driver.execute_script(\"arguments[0].scrollIntoView({block: 'center'});\", element)\n",
    "\n",
    "#finding next arrow of the carousal\n",
    "next_arrow = driver.find_element(By.CSS_SELECTOR, \"div.sc-frDJqD imPHVj icon icon-arrow_r\")\n",
    "\n",
    "coursal_names_len = driver.find_elements(By.CSS_SELECTOR, 'img.rtcLogo')\n",
    "\n",
    "for val in range(len(coursal_names_len)):\n",
    "    coursal_names = driver.find_elements(By.CSS_SELECTOR, 'img.rtcLogo')\n",
    "    # Click on the current element\n",
    "    try:\n",
    "        action.click(on_element=coursal_names[val])\n",
    "        action.perform()\n",
    "    except:\n",
    "        next_arrow.click()\n",
    "        time.sleep(3)\n",
    "        # Scroll the new item into the center of the view\n",
    "        # driver.execute_script(\"arguments[0].scrollIntoView({block: 'center'});\", new_item)\n",
    "        action.click(on_element=coursal_names[val])\n",
    "        action.perform()\n",
    "\n",
    "    # Wait for routes to load\n",
    "    time.sleep(2)\n",
    "    routes = driver.find_elements(By.CSS_SELECTOR, 'a.route')\n",
    "    print('Number of routes', routes)\n",
    "    for route in routes:\n",
    "        print(route.text)\n",
    "    \n",
    "    # Navigate back to the home page\n",
    "    driver.back()\n",
    "    time.sleep(2)\n",
    "    # Locate the element you want to scroll to\n",
    "    driver.execute_script(\"arguments[0].scrollIntoView({block: 'center'});\", element)\n",
    "    time.sleep(2)"
   ]
  },
  {
   "cell_type": "code",
   "execution_count": null,
   "metadata": {},
   "outputs": [],
   "source": []
  }
 ],
 "metadata": {
  "kernelspec": {
   "display_name": "Python 3",
   "language": "python",
   "name": "python3"
  },
  "language_info": {
   "codemirror_mode": {
    "name": "ipython",
    "version": 3
   },
   "file_extension": ".py",
   "mimetype": "text/x-python",
   "name": "python",
   "nbconvert_exporter": "python",
   "pygments_lexer": "ipython3",
   "version": "3.12.4"
  }
 },
 "nbformat": 4,
 "nbformat_minor": 2
}
